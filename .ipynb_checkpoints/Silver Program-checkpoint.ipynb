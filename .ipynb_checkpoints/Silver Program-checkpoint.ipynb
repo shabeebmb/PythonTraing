{
 "cells": [
  {
   "cell_type": "markdown",
   "metadata": {},
   "source": [
    "# Tic tac Toc"
   ]
  },
  {
   "cell_type": "code",
   "execution_count": 81,
   "metadata": {},
   "outputs": [],
   "source": [
    "def display_board():\n",
    "    ''' This will print the board'''\n",
    "    print(\"__|__|__\")\n",
    "    print(\"__|__|__\")\n",
    "    print(\"  |  |  \")\n"
   ]
  },
  {
   "cell_type": "code",
   "execution_count": 3,
   "metadata": {},
   "outputs": [
    {
     "name": "stdout",
     "output_type": "stream",
     "text": [
      "__|__|__\n",
      "__|__|__\n",
      "  |  |  \n"
     ]
    }
   ],
   "source": [
    "board = []"
   ]
  },
  {
   "cell_type": "code",
   "execution_count": 4,
   "metadata": {},
   "outputs": [],
   "source": [
    "board = ['o','x','o','x','o','x','o','x','o','x']"
   ]
  },
  {
   "cell_type": "code",
   "execution_count": 4,
   "metadata": {},
   "outputs": [],
   "source": [
    "from IPython.display import clear_output\n",
    "\n",
    "def display_board(board):\n",
    "    ''' This will print the board'''\n",
    "    clear_output()\n",
    "    print(\" \"+board[7]+\" | \"+board[8]+\" | \"+board[9]+\" \")\n",
    "    print(\"___|___|___\")\n",
    "    print(\" \"+board[4]+\" | \"+board[5]+\" | \"+board[6]+\" \")\n",
    "    print(\"___|___|___\")\n",
    "    print(\" \"+board[1]+\" | \"+board[2]+\" | \"+board[3]+\" \")\n"
   ]
  },
  {
   "cell_type": "code",
   "execution_count": 18,
   "metadata": {},
   "outputs": [
    {
     "name": "stdout",
     "output_type": "stream",
     "text": [
      " x | o | x \n",
      "___|___|___\n",
      " o | x | o \n",
      "___|___|___\n",
      " x | o | x \n"
     ]
    }
   ],
   "source": [
    "display_borad(board)"
   ]
  },
  {
   "cell_type": "code",
   "execution_count": 7,
   "metadata": {},
   "outputs": [
    {
     "name": "stdout",
     "output_type": "stream",
     "text": [
      "_x_|_x_|_x_\n",
      "_o_|_x_|_o_\n",
      "_x_|_o_|_x_\n"
     ]
    }
   ],
   "source": [
    "display_borad(board)"
   ]
  },
  {
   "cell_type": "code",
   "execution_count": 12,
   "metadata": {},
   "outputs": [
    {
     "name": "stdout",
     "output_type": "stream",
     "text": [
      " x | o | x \n",
      "___|___|___\n",
      " o | x | o \n",
      "___|___|___\n",
      " x | o | x \n"
     ]
    }
   ],
   "source": [
    "display_borad(board)"
   ]
  },
  {
   "cell_type": "markdown",
   "metadata": {},
   "source": [
    "# Assignment of the marke to the players"
   ]
  },
  {
   "cell_type": "code",
   "execution_count": 3,
   "metadata": {},
   "outputs": [],
   "source": [
    "def player_input():\n",
    "    marker = ' '\n",
    "    while not (marker == 'X' or marker == 'O'):\n",
    "        marker = input('Player 1 : Please enter your marker X or O : ').upper()\n",
    "        \n",
    "    if marker == 'X':\n",
    "        return ('X','O')\n",
    "    else:\n",
    "        return ('O','X')    "
   ]
  },
  {
   "cell_type": "code",
   "execution_count": 2,
   "metadata": {},
   "outputs": [
    {
     "ename": "NameError",
     "evalue": "name 'player_input' is not defined",
     "output_type": "error",
     "traceback": [
      "\u001b[1;31m---------------------------------------------------------------------------\u001b[0m",
      "\u001b[1;31mNameError\u001b[0m                                 Traceback (most recent call last)",
      "\u001b[1;32m<ipython-input-2-26bc28122465>\u001b[0m in \u001b[0;36m<module>\u001b[1;34m\u001b[0m\n\u001b[1;32m----> 1\u001b[1;33m \u001b[0mplayer_input\u001b[0m\u001b[1;33m(\u001b[0m\u001b[1;33m)\u001b[0m\u001b[1;33m\u001b[0m\u001b[1;33m\u001b[0m\u001b[0m\n\u001b[0m",
      "\u001b[1;31mNameError\u001b[0m: name 'player_input' is not defined"
     ]
    }
   ],
   "source": [
    "player_input()"
   ]
  },
  {
   "cell_type": "markdown",
   "metadata": {},
   "source": [
    "# Step 3 - Placing a marker on Board"
   ]
  },
  {
   "cell_type": "code",
   "execution_count": 14,
   "metadata": {},
   "outputs": [],
   "source": [
    "def place_marker(board, marker, position):\n",
    "    '''This function will place marker on the board'''\n",
    "    board[position] = marker"
   ]
  },
  {
   "cell_type": "code",
   "execution_count": 30,
   "metadata": {},
   "outputs": [],
   "source": [
    "board = [' ',' ',' ',' ',' ',' ',' ',' ',' ',' ']"
   ]
  },
  {
   "cell_type": "code",
   "execution_count": 31,
   "metadata": {},
   "outputs": [],
   "source": [
    "place_marker(board, 'X', 3)"
   ]
  },
  {
   "cell_type": "code",
   "execution_count": 32,
   "metadata": {},
   "outputs": [
    {
     "data": {
      "text/plain": [
       "[' ', ' ', ' ', 'X', ' ', ' ', ' ', ' ', ' ', ' ']"
      ]
     },
     "execution_count": 32,
     "metadata": {},
     "output_type": "execute_result"
    }
   ],
   "source": [
    "board"
   ]
  },
  {
   "cell_type": "code",
   "execution_count": 34,
   "metadata": {},
   "outputs": [
    {
     "name": "stdout",
     "output_type": "stream",
     "text": [
      "   |   |   \n",
      "___|___|___\n",
      "   |   |   \n",
      "___|___|___\n",
      "   |   | X \n"
     ]
    }
   ],
   "source": [
    "display_borad(board)"
   ]
  },
  {
   "cell_type": "markdown",
   "metadata": {},
   "source": [
    "# Check any Winner"
   ]
  },
  {
   "cell_type": "code",
   "execution_count": 16,
   "metadata": {},
   "outputs": [],
   "source": [
    "def check_win(board, mark):\n",
    "    '''Check any player Won'''\n",
    "    my_bool = ( (board[1] == mark and board[2] == mark and board[3] == mark) or\n",
    "                (board[4] == mark and board[5] == mark and board[6] == mark) or\n",
    "                (board[7] == mark and board[8] == mark and board[9] == mark) or\n",
    "                (board[1] == mark and board[4] == mark and board[7] == mark) or\n",
    "                (board[2] == mark and board[5] == mark and board[8] == mark) or\n",
    "                (board[3] == mark and board[6] == mark and board[9] == mark) or\n",
    "                (board[1] == mark and board[5] == mark and board[9] == mark) or\n",
    "                (board[3] == mark and board[5] == mark and board[7] == mark) )\n",
    "    return my_bool"
   ]
  },
  {
   "cell_type": "markdown",
   "metadata": {},
   "source": [
    "# randomly Choose a Player to play first"
   ]
  },
  {
   "cell_type": "code",
   "execution_count": 7,
   "metadata": {},
   "outputs": [],
   "source": [
    "import random\n",
    "\n",
    "def choose_first():\n",
    "    '''Choose a random player among two'''\n",
    "    if random.randint(1,2) == 1:\n",
    "        return 'Player 1'\n",
    "    else:\n",
    "        return 'Player 2'"
   ]
  },
  {
   "cell_type": "code",
   "execution_count": 51,
   "metadata": {},
   "outputs": [
    {
     "data": {
      "text/plain": [
       "'Player 1'"
      ]
     },
     "execution_count": 51,
     "metadata": {},
     "output_type": "execute_result"
    }
   ],
   "source": [
    "choose_first()"
   ]
  },
  {
   "cell_type": "markdown",
   "metadata": {},
   "source": [
    "# Check User input position is empty"
   ]
  },
  {
   "cell_type": "code",
   "execution_count": 8,
   "metadata": {},
   "outputs": [],
   "source": [
    "def position_check(board, pos):\n",
    "    return board[pos] == ' '"
   ]
  },
  {
   "cell_type": "code",
   "execution_count": 59,
   "metadata": {},
   "outputs": [
    {
     "data": {
      "text/plain": [
       "True"
      ]
     },
     "execution_count": 59,
     "metadata": {},
     "output_type": "execute_result"
    }
   ],
   "source": [
    "position_check(board,4)"
   ]
  },
  {
   "cell_type": "markdown",
   "metadata": {},
   "source": [
    "# Is the board Full"
   ]
  },
  {
   "cell_type": "code",
   "execution_count": 9,
   "metadata": {},
   "outputs": [],
   "source": [
    "def is_full_board(board):\n",
    "    '''Check the board is full or not'''\n",
    "    for i in range(1,10):\n",
    "        if position_check(board, i):\n",
    "            return False\n",
    "    return True    "
   ]
  },
  {
   "cell_type": "markdown",
   "metadata": {},
   "source": [
    "# take players next position and validate that"
   ]
  },
  {
   "cell_type": "code",
   "execution_count": 10,
   "metadata": {},
   "outputs": [],
   "source": [
    "def next_players_choice(board):\n",
    "    position = 0\n",
    "    while position not in range(1,10) or not position_check(board, position):\n",
    "        position = int(input(\"Enter the position (1 to 9) : \"))\n",
    "    return position\n",
    "    "
   ]
  },
  {
   "cell_type": "code",
   "execution_count": 73,
   "metadata": {},
   "outputs": [
    {
     "name": "stdout",
     "output_type": "stream",
     "text": [
      "Enter the position (1 to 9) : 3\n",
      "Enter the position (1 to 9) : 10\n",
      "Enter the position (1 to 9) : 1\n"
     ]
    },
    {
     "data": {
      "text/plain": [
       "1"
      ]
     },
     "execution_count": 73,
     "metadata": {},
     "output_type": "execute_result"
    }
   ],
   "source": [
    "next_players_choice(board)"
   ]
  },
  {
   "cell_type": "code",
   "execution_count": 68,
   "metadata": {},
   "outputs": [
    {
     "data": {
      "text/plain": [
       "[' ', ' ', ' ', 'X', ' ', ' ', ' ', ' ', ' ', ' ']"
      ]
     },
     "execution_count": 68,
     "metadata": {},
     "output_type": "execute_result"
    }
   ],
   "source": [
    "board"
   ]
  },
  {
   "cell_type": "markdown",
   "metadata": {},
   "source": [
    "# Paly Again or not"
   ]
  },
  {
   "cell_type": "code",
   "execution_count": 11,
   "metadata": {},
   "outputs": [],
   "source": [
    "def play_again():\n",
    "    return input(\"Do you wish to play again this game (yes or no)\").lower().startswith('y')"
   ]
  },
  {
   "cell_type": "code",
   "execution_count": null,
   "metadata": {},
   "outputs": [],
   "source": [
    "play_again()"
   ]
  },
  {
   "cell_type": "code",
   "execution_count": 78,
   "metadata": {},
   "outputs": [
    {
     "name": "stdout",
     "output_type": "stream",
     "text": [
      "   |   |   \n",
      "___|___|___\n",
      "   |   |   \n",
      "___|___|___\n",
      "   |   | X \n"
     ]
    }
   ],
   "source": [
    "display_borad(board)"
   ]
  },
  {
   "cell_type": "markdown",
   "metadata": {},
   "source": [
    "# Final Assembly of code blocks"
   ]
  },
  {
   "cell_type": "code",
   "execution_count": 20,
   "metadata": {},
   "outputs": [
    {
     "name": "stdout",
     "output_type": "stream",
     "text": [
      " O | O | X \n",
      "___|___|___\n",
      "   | X |   \n",
      "___|___|___\n",
      " X |   |   \n",
      "Congrats! You have won the gamne..\n",
      "Do you wish to play again this game (yes or no)n\n"
     ]
    }
   ],
   "source": [
    "print(\"Welcome to My tic tac toe game\")\n",
    "\n",
    "while True:\n",
    "    newBoard = [' ']*10\n",
    "    player1Marker,player2Marker = player_input()\n",
    "    turn = choose_first()\n",
    "    print(turn + 'Willl goo first in this game')\n",
    "    \n",
    "    play_game = input(\"Are you ready ? Yes or No\").lower().startswith('y')\n",
    "    \n",
    "    while play_game:\n",
    "        if turn == 'Player 1':\n",
    "            display_board(newBoard)\n",
    "            position = next_players_choice(newBoard)\n",
    "            place_marker(newBoard,player1Marker,position)\n",
    "            \n",
    "            if check_win(newBoard,player1Marker):\n",
    "                display_board(newBoard)\n",
    "                print('Congrats! You have won the gamne..')\n",
    "                play_game = False\n",
    "            else:\n",
    "                if is_full_board(newBoard):\n",
    "                    display_board(newBoard)\n",
    "                    print('Game has been drawn')\n",
    "                    break\n",
    "                else:\n",
    "                    turn = 'Player 2'\n",
    "        else:\n",
    "            display_board(newBoard)\n",
    "            position = next_players_choice(newBoard)\n",
    "            place_marker(newBoard,player2Marker,position)\n",
    "            \n",
    "            if check_win(newBoard,player2Marker):\n",
    "                display_board(newBoard)\n",
    "                print('Congrats! You have won the gamne..')\n",
    "                play_game = False\n",
    "            else:\n",
    "                if is_full_board(newBoard):\n",
    "                    display_board(newBoard)\n",
    "                    print('Game has been drawn')\n",
    "                    break\n",
    "                else:\n",
    "                    turn = 'Player 1'\n",
    "            \n",
    "    if not play_again():\n",
    "        break\n",
    "      "
   ]
  },
  {
   "cell_type": "code",
   "execution_count": null,
   "metadata": {},
   "outputs": [],
   "source": []
  }
 ],
 "metadata": {
  "kernelspec": {
   "display_name": "Python 3",
   "language": "python",
   "name": "python3"
  }
 },
 "nbformat": 4,
 "nbformat_minor": 2
}
